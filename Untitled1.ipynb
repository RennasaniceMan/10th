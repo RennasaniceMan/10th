{
 "cells": [
  {
   "cell_type": "code",
   "execution_count": 4,
   "id": "c23c95e8-fa39-4fe8-b969-cee54c6d579f",
   "metadata": {
    "tags": []
   },
   "outputs": [
    {
     "name": "stdin",
     "output_type": "stream",
     "text": [
      "Current year? 2100\n"
     ]
    },
    {
     "name": "stdout",
     "output_type": "stream",
     "text": [
      "Kervor is a cat\n",
      "Age in 2100: 88\n",
      "Richik is a dog\n",
      "Age in 2100: 78\n",
      "Markus is a spider\n",
      "Age in 2100: 81\n",
      "Lenta is a snake\n",
      "Age in 2100: 83\n",
      "Sigrid is a lizard\n",
      "Age in 2100: 106\n",
      "The oldest animal is Sigrid (lizard) with age: 106\n"
     ]
    }
   ],
   "source": [
    "class Animal:\n",
    "    def __init__(self, genus, name, year_of_birth, from_the_wilds, safe):\n",
    "        self.type = genus\n",
    "        self.name = name\n",
    "        self.year_of_birth = year_of_birth\n",
    "        self.from_the_wilds = from_the_wilds\n",
    "        self.safe = safe\n",
    "\n",
    "    def get_age(self, current_year):\n",
    "        \"\"\"age\"\"\"\n",
    "        age = current_year - self.year_of_birth\n",
    "        if age > 0:\n",
    "            return age \n",
    "        else:\n",
    "            print(\"Hm, that's weird\")\n",
    "            return None\n",
    "\n",
    "    def get_info(self):\n",
    "        \"\"\"type\"\"\"\n",
    "        return f\"{self.name} is a {self.type}\"\n",
    "\n",
    "    @staticmethod\n",
    "    def find_oldest(animals, current_year):\n",
    "        \"\"\"Find the oldest\"\"\"\n",
    "        oldest_animal = None\n",
    "        max_age = -1\n",
    "        \n",
    "        for animal in animals:\n",
    "            age = animal.get_age(current_year)\n",
    "            if age is not None and age > max_age:\n",
    "                max_age = age\n",
    "                oldest_animal = animal\n",
    "\n",
    "        return oldest_animal\n",
    "\n",
    "    @staticmethod\n",
    "    def write_animals_to_file(animals, filename):\n",
    "        \"\"\"Write names and genus of animals to a text file.\"\"\"\n",
    "        with open(filename, 'w') as file:\n",
    "            for animal in animals:\n",
    "                file.write(f\"{animal.name} - {animal.type}\\n\")\n",
    "\n",
    "animals = [\n",
    "    Animal(\"cat\", \"Kervor\", 2012, False, True),\n",
    "    Animal(\"dog\", \"Richik\", 2022, False, True),\n",
    "    Animal(\"spider\", \"Markus\", 2019, True, True),\n",
    "    Animal(\"snake\", \"Lenta\", 2017, False, False),\n",
    "    Animal(\"lizard\", \"Sigrid\", 1994, True, True)\n",
    "]\n",
    "\n",
    "current_year = int(input(\"Current year?\"))\n",
    "for animal in animals:\n",
    "    print(animal.get_info())\n",
    "    print(f\"Age in {current_year}: {animal.get_age(current_year)}\")\n",
    "\n",
    "oldest_animal = Animal.find_oldest(animals, current_year)\n",
    "if oldest_animal:\n",
    "    print(f\"The oldest animal is {oldest_animal.name} ({oldest_animal.type}) with age: {oldest_animal.get_age(current_year)}\")\n",
    "\n",
    "Animal.write_animals_to_file(animals, \"animals.txt\")"
   ]
  },
  {
   "cell_type": "code",
   "execution_count": null,
   "id": "c2a47896-aefe-48e4-b7dd-f72aa93bd3ef",
   "metadata": {},
   "outputs": [],
   "source": []
  }
 ],
 "metadata": {
  "kernelspec": {
   "display_name": "Python 3 (ipykernel)",
   "language": "python",
   "name": "python3"
  },
  "language_info": {
   "codemirror_mode": {
    "name": "ipython",
    "version": 3
   },
   "file_extension": ".py",
   "mimetype": "text/x-python",
   "name": "python",
   "nbconvert_exporter": "python",
   "pygments_lexer": "ipython3",
   "version": "3.10.9"
  }
 },
 "nbformat": 4,
 "nbformat_minor": 5
}
