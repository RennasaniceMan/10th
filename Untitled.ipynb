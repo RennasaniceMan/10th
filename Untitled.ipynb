{
 "cells": [
  {
   "cell_type": "code",
   "execution_count": 17,
   "id": "d11a87c2-097b-4e59-8fe8-60557d1d5f4d",
   "metadata": {
    "tags": []
   },
   "outputs": [],
   "source": [
    "class Animal:\n",
    "    def __init__(self, genus, name, year_of_birth, from_the_wilds, safe):\n",
    "        self.type = genus\n",
    "        self.name = name\n",
    "        self.year_of_birth = year_of_birth\n",
    "        self.from_the_wilds = from_the_wilds\n",
    "        self.safe = safe\n",
    "\n",
    "    def get_age(self):\n",
    "        \"\"\"How old?\"\"\"\n",
    "        year = int(input(\"Current year?\"))\n",
    "        age = year - self.year_of_birth\n",
    "        if age > 0:\n",
    "            return age \n",
    "        else:\n",
    "            print(\"Hm, thats weird\")\n",
    "            return None\n",
    "\n",
    "    def get_info(self):\n",
    "        \n",
    "        return f\"{self.name} is a {self.type}\"   # found that in internet, less effort and zero understanding\n",
    "my_pet = Animal(\"cat\", \"Kervor\",2012, False, True)\n",
    "pet1 = Animal(\"dog\", \"Richik\",2022, False, True)\n",
    "pet2 = Animal(\"spider\", \"Markus\",2019, True, True)\n",
    "pet3 = Animal(\"snake\", \"Lenta\",2017, False, False)\n",
    "pet4 = Animal(\"lizard\", \"Sigrid\",1994, True, True)"
   ]
  },
  {
   "cell_type": "code",
   "execution_count": null,
   "id": "ff955370-8fb7-4fd2-b2a6-a5b4ec9e00b6",
   "metadata": {},
   "outputs": [],
   "source": []
  }
 ],
 "metadata": {
  "kernelspec": {
   "display_name": "Python 3 (ipykernel)",
   "language": "python",
   "name": "python3"
  },
  "language_info": {
   "codemirror_mode": {
    "name": "ipython",
    "version": 3
   },
   "file_extension": ".py",
   "mimetype": "text/x-python",
   "name": "python",
   "nbconvert_exporter": "python",
   "pygments_lexer": "ipython3",
   "version": "3.10.9"
  }
 },
 "nbformat": 4,
 "nbformat_minor": 5
}
