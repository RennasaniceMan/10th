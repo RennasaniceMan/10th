{
 "cells": [
  {
   "cell_type": "code",
   "execution_count": 29,
   "id": "eb8e5116-f33a-4272-9cac-0a947a6552e7",
   "metadata": {
    "tags": []
   },
   "outputs": [
    {
     "data": {
      "text/plain": [
       "3"
      ]
     },
     "execution_count": 29,
     "metadata": {},
     "output_type": "execute_result"
    }
   ],
   "source": [
    "chaotic_list = [1, \"potato\", 3.14, True, \"three\", 400, 0.412313]\n",
    "sum(isinstance(i, int) for i in chaotic_list)"
   ]
  },
  {
   "cell_type": "code",
   "execution_count": null,
   "id": "42d1cc9d-b0a0-4870-b2d7-240ab939cd84",
   "metadata": {},
   "outputs": [],
   "source": []
  }
 ],
 "metadata": {
  "kernelspec": {
   "display_name": "Python 3 (ipykernel)",
   "language": "python",
   "name": "python3"
  },
  "language_info": {
   "codemirror_mode": {
    "name": "ipython",
    "version": 3
   },
   "file_extension": ".py",
   "mimetype": "text/x-python",
   "name": "python",
   "nbconvert_exporter": "python",
   "pygments_lexer": "ipython3",
   "version": "3.10.9"
  }
 },
 "nbformat": 4,
 "nbformat_minor": 5
}
